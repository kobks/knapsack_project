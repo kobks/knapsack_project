{
 "cells": [
  {
   "cell_type": "code",
   "execution_count": 1,
   "metadata": {},
   "outputs": [],
   "source": [
    "import random\n",
    "import string\n",
    "import itertools"
   ]
  },
  {
   "cell_type": "code",
   "execution_count": 2,
   "metadata": {},
   "outputs": [],
   "source": [
    "class player:\n",
    "    money = 0\n",
    "    \n",
    "    \n",
    "class node:\n",
    "    owner = 'A'\n",
    "    name = 'a'\n",
    "    ways = {}\n",
    "    \n",
    "    def __init__(self, name=\"\", owner='A'):\n",
    "        self.owner = owner\n",
    "        self.name = name\n",
    "    \n",
    "class product:\n",
    "    name = str()\n",
    "    cost = int()\n",
    "    volume = int()\n",
    "    x = float()\n",
    "    graph = node(\"A1\")\n",
    "    store_cost = int()\n",
    "    \n",
    "    def __init__(self, cost, volume, x = 0.0):\n",
    "        self.name = ''.join(random.choices(string.ascii_uppercase + string.digits, k=6))\n",
    "        self.cost = cost\n",
    "        self.volume = volume\n",
    "        self.x = x\n",
    "\n"
   ]
  },
  {
   "cell_type": "code",
   "execution_count": 3,
   "metadata": {},
   "outputs": [],
   "source": [
    "def create_AK(n):\n",
    "\n",
    "    volume = random.randrange(200, 500)\n",
    "    cost = random.randrange(100)\n",
    "    Volumes = []\n",
    "    Costs = []\n",
    "\n",
    "    items = []\n",
    "    for i in range(n):\n",
    "        Volumes.append(random.randrange(1, 100))\n",
    "        Costs.append(random.randrange(1, 1000))\n",
    "        items.append( product(Costs[i], Volumes[i]) )\n",
    "\n",
    "    arr = []\n",
    "    for i in range(n):\n",
    "        A1 = node('A1', 'A')\n",
    "        A2 = node('A2', 'A')\n",
    "        B1 = node('B1', 'B')\n",
    "        B2 = node('B2', 'B')\n",
    "        A1.ways = {B1: 0, B2: random.randrange(1, 1000)} #mA - 1)}\n",
    "        A2.ways = {B2: random.randrange(0, random.randrange(100))} #Costs[i]}\n",
    "        B1.ways = {A2: random.randrange(random.randrange(100))} #Volumes[i]}\n",
    "        items[i].x = (items[i].cost - A1.ways[B2]) / items[i].volume\n",
    "        items[i].graph = A1\n",
    "        items[i].store_cost = A1.ways[B2]\n",
    "        arr.append(A1)\n",
    "    \n",
    "    return items, volume"
   ]
  },
  {
   "cell_type": "code",
   "execution_count": 4,
   "metadata": {},
   "outputs": [],
   "source": [
    "def AK_naive(volume, items):\n",
    "    \n",
    "    if (len(items) > 8):\n",
    "        return -1\n",
    "    \n",
    "    items_full = itertools.permutations(items)\n",
    "\n",
    "    \n",
    "    k_arr = []\n",
    "    for set in items_full:\n",
    "        for i in range(1, n+1):\n",
    "            store_cost = 0\n",
    "            cost = 0\n",
    "            volume_temp = volume\n",
    "            for j in range(i):\n",
    "                store_cost += items[j].store_cost\n",
    "            for k in range(i, n):\n",
    "                if (items[k].volume <= volume_temp):\n",
    "                    volume_temp - items[k].volume\n",
    "                    cost += items[k].cost\n",
    "\n",
    "                elif (volume_temp > 0):\n",
    "                    continue\n",
    "                else:\n",
    "                    break\n",
    "            k_arr.append(store_cost + cost)\n",
    "\n",
    "    k_naive = min(k_arr)\n",
    "    return k_naive"
   ]
  },
  {
   "cell_type": "code",
   "execution_count": 5,
   "metadata": {},
   "outputs": [],
   "source": [
    "def AK_optimized(volume, items):\n",
    "    items.sort(key=lambda x: x.x)\n",
    "\n",
    "    k_arr = []\n",
    "    for i in range(1, n+1):\n",
    "        store_cost = 0\n",
    "        cost = 0\n",
    "        volume_temp = volume\n",
    "        for j in range(i):\n",
    "            store_cost += items[j].store_cost\n",
    "        for k in range(i, n):\n",
    "            if (items[k].volume <= volume_temp):\n",
    "                volume_temp - items[k].volume\n",
    "                cost += items[k].cost\n",
    "            elif (volume_temp > 0):\n",
    "                continue\n",
    "            else:\n",
    "                break\n",
    "\n",
    "        k_arr.append(store_cost + cost)\n",
    "\n",
    "    k_0 = min(k_arr)\n",
    "    return k_0"
   ]
  },
  {
   "cell_type": "code",
   "execution_count": 6,
   "metadata": {},
   "outputs": [],
   "source": [
    "def create_TK(n):\n",
    "    \n",
    "    volume = random.randrange(n*100, n*1000)# int(input())\n",
    "    cost = 0\n",
    "    Volumes = []\n",
    "    Costs = []\n",
    "\n",
    "    item_pairs = []\n",
    "    for i in range(n):\n",
    "        V1 = random.randrange(1, n*100)\n",
    "        Volumes.append(V1)\n",
    "        C1 = random.randrange(1, n*100)\n",
    "        Costs.append(C1)\n",
    "\n",
    "        V2 = random.randrange(V1, n*100)\n",
    "        Volumes.append(V2)\n",
    "        C2 = random.randrange(1, n*100)\n",
    "        Costs.append(C2)\n",
    "\n",
    "        item_pairs.append( [product(C1, V1, (C1 / V1)), product(C2, V2, (C2 / V2) ), min((C1/V1),(C2/V2)) ] )\n",
    "        \n",
    "    for pair in item_pairs:\n",
    "        if (pair[1].x > pair[0].x):\n",
    "            pair[0], pair[1] = pair[1], pair[0]\n",
    "    return item_pairs, volume"
   ]
  },
  {
   "cell_type": "code",
   "execution_count": 7,
   "metadata": {},
   "outputs": [],
   "source": [
    "def naive_TK(volume, item_pairs):\n",
    "\n",
    "    if (len(item_pairs) > 10):\n",
    "        return -1, []\n",
    "    items_full = list(itertools.permutations(item_pairs))\n",
    "    items_taken_fool = [] \n",
    "\n",
    "    items_taken_fool_temp = []\n",
    "    max_fool = 0\n",
    "    for item_set in items_full:\n",
    "        volume_temp = volume\n",
    "        fool_cost = 0\n",
    "        items_taken_fool_temp = []\n",
    "        for pair in item_set:\n",
    "            if (pair[1].volume <= volume_temp):\n",
    "                items_taken_fool_temp.append(pair[1])\n",
    "                volume_temp -= pair[1].volume\n",
    "                fool_cost += pair[1].cost\n",
    "            elif (volume_temp > 0):\n",
    "                continue\n",
    "            else:\n",
    "                break\n",
    "        if (fool_cost > max_fool):\n",
    "            max_fool = fool_cost\n",
    "            items_taken_fool = items_taken_fool_temp\n",
    "    return max_fool, items_taken_fool"
   ]
  },
  {
   "cell_type": "code",
   "execution_count": 8,
   "metadata": {},
   "outputs": [],
   "source": [
    "def unoptimal_TK(volume, items_TK):\n",
    "    new_item_pairs = sorted(items_TK, key = lambda x: x[2], reverse=True)\n",
    "    items_taken_unopt = []\n",
    "\n",
    "    unOPT_B = 0\n",
    "    unopt_volume = volume\n",
    "    for pair in new_item_pairs:\n",
    "        if (pair[1].volume <= unopt_volume):\n",
    "            items_taken_unopt.append(pair[1])\n",
    "            unopt_volume -= pair[1].volume\n",
    "            unOPT_B += pair[1].cost\n",
    "        elif (unopt_volume > 0):\n",
    "            continue\n",
    "        else:\n",
    "            break    \n",
    "            \n",
    "    return unOPT_B, items_taken_unopt"
   ]
  },
  {
   "cell_type": "code",
   "execution_count": 9,
   "metadata": {},
   "outputs": [],
   "source": [
    "def optimal_TK(volume, items_TK):\n",
    "    new_item_pairs = sorted(items_TK, key = lambda x: x[2], reverse=True)\n",
    "    items_taken = []\n",
    "    OPT_B = 0\n",
    "    opt_volume = volume\n",
    "    for pair in new_item_pairs:\n",
    "        if (pair[1].volume <= opt_volume):\n",
    "            items_taken.append(pair[1])\n",
    "            opt_volume -= pair[1].volume\n",
    "            OPT_B += pair[1].cost\n",
    "        elif (opt_volume > 0):\n",
    "            items_taken.append(pair[1])\n",
    "            temp = (opt_volume) * pair[1].x\n",
    "            OPT_B += temp\n",
    "            opt_volume = 0\n",
    "        else:\n",
    "            break\n",
    "    return OPT_B, items_taken"
   ]
  },
  {
   "cell_type": "markdown",
   "metadata": {},
   "source": [
    " \n",
    " \n",
    " \n",
    " \n",
    " \n",
    " "
   ]
  },
  {
   "cell_type": "code",
   "execution_count": 10,
   "metadata": {},
   "outputs": [],
   "source": [
    "n = 7"
   ]
  },
  {
   "cell_type": "code",
   "execution_count": 11,
   "metadata": {},
   "outputs": [
    {
     "name": "stdout",
     "output_type": "stream",
     "text": [
      "optimal losses for foolish:  3628\n",
      "\n",
      "optimal losses for sorted:  3969\n"
     ]
    }
   ],
   "source": [
    "items_AK, volume = create_AK(n)\n",
    "k_naive = AK_naive(volume, items_AK)\n",
    "k_0 = AK_optimized(volume, items_AK)\n",
    "\n",
    "print(\"optimal losses for foolish: \", k_naive)\n",
    "print(\"\\noptimal losses for sorted: \", k_0)"
   ]
  },
  {
   "cell_type": "code",
   "execution_count": 12,
   "metadata": {},
   "outputs": [
    {
     "name": "stdout",
     "output_type": "stream",
     "text": [
      "75.2 ms ± 2.75 ms per loop (mean ± std. dev. of 7 runs, 10 loops each)\n"
     ]
    }
   ],
   "source": [
    "%timeit AK_naive(volume, items_AK)"
   ]
  },
  {
   "cell_type": "code",
   "execution_count": 13,
   "metadata": {},
   "outputs": [
    {
     "name": "stdout",
     "output_type": "stream",
     "text": [
      "17.2 µs ± 862 ns per loop (mean ± std. dev. of 7 runs, 100000 loops each)\n"
     ]
    }
   ],
   "source": [
    "%timeit AK_optimized(volume, items_AK)"
   ]
  },
  {
   "cell_type": "code",
   "execution_count": 14,
   "metadata": {},
   "outputs": [],
   "source": [
    "items_TK, volume = create_TK(n)\n",
    "max_fool, items_taken_fool = naive_TK(volume, items_TK)\n",
    "\n",
    "unOPT_B, items_taken_unopt = unoptimal_TK(volume, items_TK)\n",
    "OPT_B, items_taken = optimal_TK(volume, items_TK)"
   ]
  },
  {
   "cell_type": "code",
   "execution_count": 15,
   "metadata": {},
   "outputs": [
    {
     "name": "stdout",
     "output_type": "stream",
     "text": [
      "items taken for foolish: \n",
      "53IU4O N8BN12 GSUIK7 V65HOD 5OFZD4 DEO01F MH60QK \n",
      "max cost for foolish:  2061\n",
      "\n",
      "items taken for unOPT_B: \n",
      "GSUIK7 DEO01F V65HOD MH60QK 5OFZD4 N8BN12 53IU4O \n",
      "cost for unOPT_B:  2061\n",
      "\n",
      "items taken for OPT_B: \n",
      "GSUIK7 DEO01F V65HOD MH60QK 5OFZD4 N8BN12 53IU4O \n",
      "cost for OPT_B:  2061\n"
     ]
    }
   ],
   "source": [
    "print(\"items taken for foolish: \")#, items_taken_fool)\n",
    "for item in items_taken_fool:\n",
    "    print(item.name, end=\" \")\n",
    "print(\"\\nmax cost for foolish: \", max_fool)\n",
    "print(\"\\nitems taken for unOPT_B: \")#, items_taken_unopt)\n",
    "for item in items_taken_unopt:\n",
    "    print(item.name, end=\" \")\n",
    "print(\"\\ncost for unOPT_B: \", unOPT_B)\n",
    "print(\"\\nitems taken for OPT_B: \")#, items_taken)\n",
    "for item in items_taken:\n",
    "    print(item.name, end=\" \")\n",
    "print(\"\\ncost for OPT_B: \", OPT_B)"
   ]
  },
  {
   "cell_type": "code",
   "execution_count": 16,
   "metadata": {},
   "outputs": [
    {
     "name": "stdout",
     "output_type": "stream",
     "text": [
      "11.2 ms ± 348 µs per loop (mean ± std. dev. of 7 runs, 100 loops each)\n"
     ]
    }
   ],
   "source": [
    "%timeit naive_TK(volume, items_TK)"
   ]
  },
  {
   "cell_type": "code",
   "execution_count": 17,
   "metadata": {},
   "outputs": [
    {
     "name": "stdout",
     "output_type": "stream",
     "text": [
      "3.5 µs ± 125 ns per loop (mean ± std. dev. of 7 runs, 100000 loops each)\n"
     ]
    }
   ],
   "source": [
    "%timeit unoptimal_TK(volume, items_TK)"
   ]
  },
  {
   "cell_type": "code",
   "execution_count": 18,
   "metadata": {},
   "outputs": [
    {
     "name": "stdout",
     "output_type": "stream",
     "text": [
      "3.54 µs ± 114 ns per loop (mean ± std. dev. of 7 runs, 100000 loops each)\n"
     ]
    }
   ],
   "source": [
    "%timeit optimal_TK(volume, items_TK)"
   ]
  }
 ],
 "metadata": {
  "kernelspec": {
   "display_name": "Python 3",
   "language": "python",
   "name": "python3"
  },
  "language_info": {
   "codemirror_mode": {
    "name": "ipython",
    "version": 3
   },
   "file_extension": ".py",
   "mimetype": "text/x-python",
   "name": "python",
   "nbconvert_exporter": "python",
   "pygments_lexer": "ipython3",
   "version": "3.7.0"
  }
 },
 "nbformat": 4,
 "nbformat_minor": 2
}
